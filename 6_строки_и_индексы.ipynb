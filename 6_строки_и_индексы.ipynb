{
 "cells": [
  {
   "cell_type": "markdown",
   "id": "5d6e50a7-1769-4ada-b068-def026666d6c",
   "metadata": {},
   "source": [
    "# Строки и индексация"
   ]
  },
  {
   "cell_type": "markdown",
   "id": "17caeb25-8aac-4a62-8680-36eb14fd514b",
   "metadata": {},
   "source": [
    "Из того, что мы знаем о строках, так это то, что они представляют собой последовательность символов разного толка"
   ]
  },
  {
   "cell_type": "code",
   "execution_count": 1,
   "id": "0d207877-4f68-460c-b32c-cfc113d55f6c",
   "metadata": {},
   "outputs": [
    {
     "name": "stdout",
     "output_type": "stream",
     "text": [
      "Привет, я строка!\n"
     ]
    }
   ],
   "source": [
    "print('Привет, я строка!')"
   ]
  },
  {
   "cell_type": "markdown",
   "id": "599c8e50-b512-4a29-94c5-a806aacc8fc6",
   "metadata": {},
   "source": [
    "В Python помимо названия типа **Строка** к строкам применяется еще один любопытный термин. **Коллекция**.\n",
    "\n",
    "Если представить, что строка содержит в себе каждый *символ* как отдельное значение, то вместе они собираются в *коллекцию* символов, расположенных последовательно друг за другом. Это имеет достаточно большое значение, ведь понятие коллекций расширяет возможности языка Python, позволяя хранить в одной переменной сразу несколько значений, хоть в примере с типом **Строка** это не очень заметно"
   ]
  },
  {
   "cell_type": "markdown",
   "id": "db56e321-96f5-4d95-8d9b-f109bbf7f3f6",
   "metadata": {},
   "source": [
    "## Что мы знаем о строках\n",
    "\n",
    "Давайте вспомним, что мы уже знаем о работе со строками в языке Python. Мы умеем создавать строки четырьмя способами: задавать напрямую, считывать с клавиатуры функцией input(), преобразовывать число в строку функцией str и склеивать из двух других строк операцией +. Кроме того, мы умеем узнавать длину строки, используя функцию len, и проверять, является ли одна строка частью другой, используя операцию in:"
   ]
  },
  {
   "cell_type": "code",
   "execution_count": 3,
   "id": "c204d0f9-d709-4e45-bdb3-6652e98d3d3f",
   "metadata": {},
   "outputs": [
    {
     "name": "stdout",
     "output_type": "stream",
     "text": [
      "опять\n",
      "привет\n",
      "25\n",
      "опять25\n",
      "7\n",
      "True\n"
     ]
    }
   ],
   "source": [
    "fixed_word = 'опять'\n",
    "print(fixed_word)\n",
    "word = input()\n",
    "print(word)\n",
    "number = 25\n",
    "number_string = str(number)\n",
    "print(number_string)\n",
    "word_plus_number = fixed_word + number_string\n",
    "print(word_plus_number)\n",
    "print(len(word_plus_number))\n",
    "print('оп' in word_plus_number)"
   ]
  },
  {
   "cell_type": "markdown",
   "id": "7db014ca-1eca-4b07-b597-6104e4417809",
   "metadata": {},
   "source": [
    "## Индексация в строках\n",
    "\n",
    "В строках важен порядок элементов (символов). Наличие порядка дает нам возможность пронумеровать символы. Нумерация символов начинается с 0:"
   ]
  },
  {
   "cell_type": "markdown",
   "id": "c96dcff7-c981-4d3f-86d1-83b5e7de91be",
   "metadata": {},
   "source": [
    "![img](img/indexes.png)"
   ]
  },
  {
   "cell_type": "markdown",
   "id": "0d05babd-3e02-4ccd-9764-9a9a69e3073d",
   "metadata": {},
   "source": [
    "### Индекс\n",
    "\n",
    "По индексу можно получить соответствующий ему символ строки. Для этого нужно после самой строки написать в квадратных скобках индекс символа.\n"
   ]
  },
  {
   "cell_type": "code",
   "execution_count": 4,
   "id": "b967172d-6be4-4b80-ac60-da139cf9ac27",
   "metadata": {},
   "outputs": [
    {
     "name": "stdout",
     "output_type": "stream",
     "text": [
      "п\n",
      "в\n"
     ]
    }
   ],
   "source": [
    "word = 'привет'\n",
    "initial_letter = word[0]\n",
    "print(initial_letter)  # сделает то же, что print('п')\n",
    "other_letter = word[3]\n",
    "print(other_letter)  # сделает то же, что print('в')"
   ]
  },
  {
   "cell_type": "markdown",
   "id": "7c43a4a7-f852-4b6c-ba77-b5c49dcf957a",
   "metadata": {},
   "source": [
    "А что будет, если попытаться получить букву, номер которой слишком велик? В этом случае Python выдаст ошибку:"
   ]
  },
  {
   "cell_type": "code",
   "execution_count": 5,
   "id": "d4b4dfdb-9d7c-462c-aa69-1ed3efae3138",
   "metadata": {},
   "outputs": [
    {
     "ename": "IndexError",
     "evalue": "string index out of range",
     "output_type": "error",
     "traceback": [
      "\u001b[1;31m---------------------------------------------------------------------------\u001b[0m",
      "\u001b[1;31mIndexError\u001b[0m                                Traceback (most recent call last)",
      "Cell \u001b[1;32mIn[5], line 2\u001b[0m\n\u001b[0;32m      1\u001b[0m word \u001b[38;5;241m=\u001b[39m \u001b[38;5;124m'\u001b[39m\u001b[38;5;124mпривет\u001b[39m\u001b[38;5;124m'\u001b[39m\n\u001b[1;32m----> 2\u001b[0m \u001b[38;5;28mprint\u001b[39m(\u001b[43mword\u001b[49m\u001b[43m[\u001b[49m\u001b[38;5;241;43m6\u001b[39;49m\u001b[43m]\u001b[49m) \u001b[38;5;66;03m# builtins.IndexError: string index out of range\u001b[39;00m\n",
      "\u001b[1;31mIndexError\u001b[0m: string index out of range"
     ]
    }
   ],
   "source": [
    "word = 'привет'\n",
    "print(word[6]) # builtins.IndexError: string index out of range"
   ]
  },
  {
   "cell_type": "markdown",
   "id": "d21ad04d-26ae-4908-8795-413a25c6d665",
   "metadata": {},
   "source": [
    "Конечно, номер в квадратных скобках — не всегда фиксированное число, которое прописано в самой программе. Его тоже можно считать с клавиатуры или получить в результате арифметического действия."
   ]
  },
  {
   "cell_type": "code",
   "execution_count": 9,
   "id": "285f5379-3bef-4e5b-aaaf-bc7ecfb6fcbf",
   "metadata": {},
   "outputs": [
    {
     "name": "stdout",
     "output_type": "stream",
     "text": [
      "е\n"
     ]
    }
   ],
   "source": [
    "word = 'привет'\n",
    "number_of_letter = int(input())  # предположим, пользователь ввел 3\n",
    "print(word[number_of_letter])  # тогда будет выведена буква 'в'"
   ]
  },
  {
   "cell_type": "markdown",
   "id": "7e8541fc-1e02-421c-be2b-ef763d9bc4bb",
   "metadata": {},
   "source": [
    "## Упражнение\n",
    "\n",
    "Если у пользователя болит горло, и он обратился с этой проблемой к врачу, врач, вероятно, попросит его или её сказать \"ааааа\". Но знает ли пользователь, как говорить \"а\"?\n",
    "\n",
    "Напишите программу, которая проверяет, является ли первая буква введённого пользователем слова строчной буквой \"а\" русского алфавита и выводит \"ДА\" или \"НЕТ\" в зависимости от этого.\n",
    "\n",
    "**Формат ввода**\n",
    "\n",
    "Одна строка — слово, которое сказал пользователь.\n",
    "\n",
    "**Формат вывода**\n",
    "\n",
    "Одна строка \"ДА\" или \"НЕТ\".\n",
    "\n",
    "Пример\n",
    "\n",
    "**Ввод**\n",
    "\n",
    "аптека\n",
    "\n",
    "**Вывод**\n",
    "\n",
    "ДА"
   ]
  },
  {
   "cell_type": "code",
   "execution_count": 10,
   "id": "ddc2c45b-db7a-4186-914c-ec97bb422d68",
   "metadata": {},
   "outputs": [
    {
     "name": "stdout",
     "output_type": "stream",
     "text": [
      "ДА\n"
     ]
    }
   ],
   "source": [
    "# код решения\n",
    "word = input()\n",
    "if word[0] == 'а':\n",
    "    print(\"ДА\")\n",
    "else:\n",
    "    print(\"НЕТ\")"
   ]
  },
  {
   "cell_type": "markdown",
   "id": "6d198e07-8d64-4fed-8dd1-7832a108a7a4",
   "metadata": {},
   "source": [
    "## Упражнение\n",
    "\n",
    "Есть такой избыточный, зато труднообнаружимый шифр: если у вас есть секретное сообщение — последовательность букв, то вы составляете специальный текст так, чтобы каждая, скажем, пятая буква очередного слова этого текста представляла собой очередную букву шифруемого сообщения. Вам нужно написать часть системы, дешифрующей такое сообщение.\n",
    "\n",
    "Напишите программу, которая выводит пятую букву введённого пользователем слова. Например, в слове \"Привет\" пятая буква — \"е\". Если в слове нет пятой буквы, потому что оно слишком короткое, то программа выводит \"НЕТ\".\n",
    "\n",
    "\n",
    "**Формат ввода**\n",
    "\n",
    "Одно слово.\n",
    "\n",
    "**Формат вывода**\n",
    "\n",
    "\n",
    "Пятая буква введённого слова или сообщение \"НЕТ\", если в слове меньше пяти букв.\n",
    "\n",
    "---\n",
    "\n",
    "*Пример*\n",
    "\n",
    "**Ввод**\n",
    "\n",
    "Привет\n",
    "\n",
    "**Вывод**\n",
    "\n",
    "е\n",
    "\n",
    "---\n",
    "*Пример 2*\n",
    "\n",
    "**Ввод**\n",
    "\n",
    "Дай!\n",
    "\n",
    "**Вывод**\n",
    "\n",
    "Нет"
   ]
  },
  {
   "cell_type": "code",
   "execution_count": 11,
   "id": "7e9768bc-f2aa-4e8a-938f-6a0294140fb0",
   "metadata": {},
   "outputs": [
    {
     "name": "stdout",
     "output_type": "stream",
     "text": [
      "а\n"
     ]
    }
   ],
   "source": [
    "# код решения\n",
    "word = input()\n",
    "if len(word) >= 5:\n",
    "    print(word[4])  # Пятая буква, индекс 4\n",
    "else:\n",
    "    print(\"НЕТ\")"
   ]
  },
  {
   "cell_type": "markdown",
   "id": "09fc9ab2-081d-45c9-b6c8-f33431fc7637",
   "metadata": {},
   "source": [
    "## Перебор элементов строки"
   ]
  },
  {
   "cell_type": "markdown",
   "id": "55cdbb8b-182a-4adc-8077-118873a507c8",
   "metadata": {},
   "source": [
    "Можно использовать цикл for, чтобы перебрать все буквы в слове:"
   ]
  },
  {
   "cell_type": "code",
   "execution_count": 12,
   "id": "89174b2f-aa44-4614-89ab-57b571648fc0",
   "metadata": {},
   "outputs": [
    {
     "name": "stdout",
     "output_type": "stream",
     "text": [
      "П\n",
      "Р\n",
      "И\n",
      "В\n",
      "Е\n",
      "Т\n",
      "!\n"
     ]
    }
   ],
   "source": [
    "text = 'ПРИВЕТ!'\n",
    "for letter in text:\n",
    "    print(letter)"
   ]
  },
  {
   "cell_type": "code",
   "execution_count": 13,
   "id": "4afc49aa-3f9a-4bf1-b09e-04d303261b07",
   "metadata": {},
   "outputs": [
    {
     "name": "stdout",
     "output_type": "stream",
     "text": [
      "7\n"
     ]
    }
   ],
   "source": [
    "text = 'hello, my dear friends!'\n",
    "vowels = 0\n",
    "# считаем количество гласных в тексте\n",
    "for letter in text:\n",
    "    if letter in {'a', 'e', 'i', 'o', 'u', 'y'}:\n",
    "        vowels += 1\n",
    "print(vowels)"
   ]
  },
  {
   "cell_type": "markdown",
   "id": "17dd3d18-cb35-4a26-97f6-46c0c5e564b1",
   "metadata": {},
   "source": [
    "Но, так как символы в строке пронумерованы, у нас есть еще один способ перебрать все элементы в строке: перебрать все индексы, используя уже знакомую нам конструкцию **for i in range(...)**."
   ]
  },
  {
   "cell_type": "code",
   "execution_count": 14,
   "id": "b106ef3c-e674-4a1c-b00a-641ffd170014",
   "metadata": {},
   "outputs": [
    {
     "name": "stdout",
     "output_type": "stream",
     "text": [
      "7\n"
     ]
    }
   ],
   "source": [
    "text = 'hello, my dear friends!'\n",
    "vowels = 0\n",
    "for i in range(len(text)):\n",
    "    if text[i] in 'aeiouy':\n",
    "        vowels += 1\n",
    "print(vowels)"
   ]
  },
  {
   "cell_type": "markdown",
   "id": "4d8957ea-eef5-49b7-9ac7-b7c5753e477a",
   "metadata": {},
   "source": [
    "## Упражнение\n",
    "\n",
    "Очень холодно, вы дрожите, зуб на зуб не попадает, разговариваете соответственно.\n",
    "\n",
    "**Формат ввода**\n",
    "\n",
    "\n",
    "Вводится одна строка.\n",
    "\n",
    "\n",
    "**Формат вывода**\n",
    "\n",
    "Выводится та же строка, но каждый символ повторяется дважды.\n",
    "\n",
    "**Пример**\n",
    "\n",
    "**Ввод**\n",
    "\n",
    "Холодно\n",
    "\n",
    "**Вывод**\n",
    "\n",
    "ХХооллоодднноо"
   ]
  },
  {
   "cell_type": "code",
   "execution_count": 15,
   "id": "6c1af312-2b27-489b-a82f-32c4a7690d11",
   "metadata": {},
   "outputs": [
    {
     "name": "stdout",
     "output_type": "stream",
     "text": [
      "ххооллоодднноо\n"
     ]
    }
   ],
   "source": [
    "# код решения\n",
    "word = input()\n",
    "result = ''.join([char * 2 for char in word])\n",
    "print(result)"
   ]
  }
 ],
 "metadata": {
  "kernelspec": {
   "display_name": "Python 3",
   "language": "python",
   "name": "python3"
  },
  "language_info": {
   "codemirror_mode": {
    "name": "ipython",
    "version": 3
   },
   "file_extension": ".py",
   "mimetype": "text/x-python",
   "name": "python",
   "nbconvert_exporter": "python",
   "pygments_lexer": "ipython3",
   "version": "3.11.9"
  }
 },
 "nbformat": 4,
 "nbformat_minor": 5
}
