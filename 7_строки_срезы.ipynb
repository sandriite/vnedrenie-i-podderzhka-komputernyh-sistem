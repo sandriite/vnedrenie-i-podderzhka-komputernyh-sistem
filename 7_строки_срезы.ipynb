{
 "cells": [
  {
   "cell_type": "markdown",
   "id": "2e666ef5",
   "metadata": {},
   "source": [
    "# Строки. Срезы"
   ]
  },
  {
   "cell_type": "markdown",
   "id": "ea4cfd35",
   "metadata": {},
   "source": [
    "## Работа со строками (повторение)"
   ]
  },
  {
   "cell_type": "markdown",
   "id": "f5877564",
   "metadata": {},
   "source": [
    "Рассмотрим еще одну задачу. Билет называют счастливым по-питерски, если сумма цифр его номера, стоящих на четных местах, равна сумме цифр, стоящих на нечетных местах. Нам необходимо написать программу, которая определяет, является ли билет счастливым по-питерски."
   ]
  },
  {
   "cell_type": "markdown",
   "id": "59e7d31b",
   "metadata": {},
   "source": [
    "> **394286**"
   ]
  },
  {
   "cell_type": "markdown",
   "id": "35d06298",
   "metadata": {},
   "source": [
    "Если рассматривать номер билета как строку из цифр, задача сводится к подсчету суммы цифр, стоящих на позициях 0, 2, 4..., и суммы цифр, стоящих на позициях 1, 3, 5... Чтобы перебрать элементы, мы можем воспользоваться конструкцией for i in range(...), указав шаг 2. Тогда соответствующий фрагмент программы может выглядеть следующим образом:"
   ]
  },
  {
   "cell_type": "code",
   "execution_count": 2,
   "id": "054416a0",
   "metadata": {},
   "outputs": [],
   "source": [
    "number = input()\n",
    "odd = even = 0\n",
    "for i in range(0, len(number), 2):\n",
    "    odd += int(number[i])\n",
    "for i in range(1, len(number), 2):\n",
    "    even += int(number[i])\n",
    "if odd == even:\n",
    "    print('Счастливый по-питерски!')"
   ]
  },
  {
   "cell_type": "markdown",
   "id": "86a03d56",
   "metadata": {},
   "source": [
    "Можете подумать, как решить эту задачу за один цикл"
   ]
  },
  {
   "cell_type": "code",
   "execution_count": 7,
   "id": "aca657a0",
   "metadata": {},
   "outputs": [
    {
     "name": "stdout",
     "output_type": "stream",
     "text": [
      "Не счастливый билет.\n"
     ]
    }
   ],
   "source": [
    "# код возможного решения\n",
    "number = input(\"Введите номер билета: \")\n",
    "odd_sum = 0\n",
    "even_sum = 0\n",
    "for i in range(len(number)):\n",
    "    digit = int(number[i])  \n",
    "    if i % 2 == 0:\n",
    "        even_sum += digit \n",
    "    else:\n",
    "        odd_sum += digit    \n",
    "if odd_sum == even_sum:\n",
    "    print('Счастливый по-питерски!')\n",
    "else:\n",
    "    print('Не счастливый билет.')"
   ]
  },
  {
   "cell_type": "markdown",
   "id": "cf16555d",
   "metadata": {},
   "source": [
    "# Срезы строк"
   ]
  },
  {
   "cell_type": "markdown",
   "id": "7194dc2e",
   "metadata": {},
   "source": [
    "На примере разобранной задачи мы увидели, что перебор элементов строки с помощью конструкции for i in range(...) является достаточно гибким: можно перебрать не все индексы, можно идти с шагом, скажем, 2 или даже −1, то есть в обратном порядке. Но существует способ без всякого цикла преобразовать строку нужным образом: взять отдельный ее кусок, символы с нечетными номерами и т. д. Этот способ — срез (slice)."
   ]
  },
  {
   "cell_type": "markdown",
   "id": "087f7e83",
   "metadata": {},
   "source": [
    "\n",
    "\n",
    "> ### Срез строки\n",
    "В самом простом варианте срез строки — ее кусок от одного индекса включительно и до другого не включительно (как для range). То есть это новая, более короткая строка.\n",
    "Срез записывается с помощью квадратных скобок, в которых указывается начальный и конечный индекс, разделенные двоеточием.\n"
   ]
  },
  {
   "cell_type": "code",
   "execution_count": 8,
   "id": "f2dc7a20",
   "metadata": {},
   "outputs": [
    {
     "name": "stdout",
     "output_type": "stream",
     "text": [
      "Hello\n",
      "world\n"
     ]
    }
   ],
   "source": [
    "text = 'Hello, world!'\n",
    "print(text[0:5])\n",
    "print(text[7:12])"
   ]
  },
  {
   "cell_type": "markdown",
   "id": "e3fc4a59",
   "metadata": {},
   "source": [
    "Если не указан начальный индекс, срез берется от начала (от 0). Если не указан конечный индекс, срез берется до конца строки. Попробуйте предположить, что будет выведено на экран, если в предыдущей программе записать срезы следующим образом:"
   ]
  },
  {
   "cell_type": "code",
   "execution_count": 9,
   "id": "9d25056b",
   "metadata": {},
   "outputs": [
    {
     "name": "stdout",
     "output_type": "stream",
     "text": [
      "Hello\n",
      "world!\n"
     ]
    }
   ],
   "source": [
    "text = 'Hello, world!'\n",
    "print(text[:5])\n",
    "print(text[7:])"
   ]
  },
  {
   "cell_type": "markdown",
   "id": "37fa74e6",
   "metadata": {},
   "source": [
    "> первый print, как и раньше, выведет на экран 'Hello', а вот второй print напечатает 'world!' — восклицательный знак тоже войдет в срез!"
   ]
  },
  {
   "cell_type": "markdown",
   "id": "739cece6",
   "metadata": {},
   "source": [
    "Разрешены отрицательные индексы для отсчета с конца списка. В следующем примере из строки, содержащей фамилию, имя и отчество, будет извлекаться фамилия."
   ]
  },
  {
   "cell_type": "code",
   "execution_count": 10,
   "id": "e7afbd6b",
   "metadata": {},
   "outputs": [],
   "source": [
    "full_name = 'Иванов И. И.'\n",
    "surname = full_name[:-6]"
   ]
  },
  {
   "cell_type": "markdown",
   "id": "48324622",
   "metadata": {},
   "source": [
    "Как и для range, в параметры среза можно добавить третье число — шаг обхода. Этот параметр не является обязательным и записывается через второе двоеточие. Вот как может выглядеть программа «Счастливый билет», если решать ее с помощью срезов:"
   ]
  },
  {
   "cell_type": "code",
   "execution_count": 11,
   "id": "1c6ab5c0",
   "metadata": {},
   "outputs": [],
   "source": [
    "number = input()\n",
    "odd = even = 0\n",
    "\n",
    "# срез будет от начала строки до конца с шагом два: 0, 2, 4,... \n",
    "for n in number[::2]:  \n",
    "    odd += int(n)\n",
    "\n",
    "# срез от второго элемента строки до конца с шагом два: 1, 3, 5,...\n",
    "for n in number[1::2]: \n",
    "    even += int(n)\n",
    "\n",
    "if odd == even:\n",
    "    print('Счастливый по-питерски!')"
   ]
  },
  {
   "cell_type": "markdown",
   "id": "ab7fc0b4",
   "metadata": {},
   "source": [
    "Интересное отличие среза от обращения по индексу к отдельному элементу состоит в том, что мы не получим ошибку при указании границ среза за пределами строки. В срез в таком случае попадут только те элементы, которые находятся по валидным индексам среза:"
   ]
  },
  {
   "cell_type": "code",
   "execution_count": 12,
   "id": "aef432ed",
   "metadata": {},
   "outputs": [
    {
     "name": "stdout",
     "output_type": "stream",
     "text": [
      "thon\n",
      "\n"
     ]
    }
   ],
   "source": [
    "a = 'Python'\n",
    "print(a[2:10000]) # thon\n",
    "print(a[999:]) # пустая строка"
   ]
  },
  {
   "cell_type": "markdown",
   "id": "041642bd",
   "metadata": {},
   "source": [
    "Шаг может быть и отрицательным — для прохода по строке в обратном порядке. Если в этом случае не указать начальный и конечный индекс среза, ими станут последний и первый индексы строки соответственно (а не наоборот, как при положительном шаге):"
   ]
  },
  {
   "cell_type": "code",
   "execution_count": 13,
   "id": "ec7d2806",
   "metadata": {},
   "outputs": [
    {
     "name": "stdout",
     "output_type": "stream",
     "text": [
      "False\n"
     ]
    }
   ],
   "source": [
    "text = 'СЕЛ В ОЗЕРЕ БЕРЕЗОВ ЛЕС'\n",
    "text_reversed = text[::-1]\n",
    "print(text == text_reversed)"
   ]
  },
  {
   "cell_type": "markdown",
   "id": "8fff9eff",
   "metadata": {},
   "source": [
    "Итак, с помощью квадратных скобок можно получить доступ как к одному символу строки, так и к некоторой последовательности символов, причем совсем необязательно идущих подряд!"
   ]
  },
  {
   "cell_type": "markdown",
   "id": "da7601a3",
   "metadata": {},
   "source": [
    "# Упражнения"
   ]
  },
  {
   "cell_type": "markdown",
   "id": "1acfa10b",
   "metadata": {},
   "source": [
    "### Упражнение 1"
   ]
  },
  {
   "cell_type": "markdown",
   "id": "86ab0e1f",
   "metadata": {},
   "source": [
    "\n",
    "\n",
    "Напишите программу, которая укорачивает заголовки новостей, чтобы их анонсы поместились в ленте событий на сайте новостного агентства. Если длина заголовка превышает максимальную допустимую длину анонса, следует укоротить его и добавить в конце многоточие (в виде трёх точек), чтобы получившийся анонс имел ровно максимальную допустимую длину.\n",
    "#### Формат ввода\n",
    "\n",
    "На первой строке вводится натуральное число — максимальная допустимая длина анонса.\n",
    "На второй строке вводится натуральное число N — количество заголовков.\n",
    "Далее вводится N заголовков, каждый на отдельной строке. Гарантируется, что заголовки не короче 4 символов.\n",
    "#### Формат вывода\n",
    "\n",
    "Для каждого заголовка выводится соответствующий анонс: если длина заголовка не превышает максимальную, то он и есть анонс, иначе его следует укоротить согласно условию.\n"
   ]
  },
  {
   "cell_type": "markdown",
   "id": "1a724bef",
   "metadata": {},
   "source": [
    "![title](img/ex1.png)"
   ]
  },
  {
   "cell_type": "code",
   "execution_count": 21,
   "id": "d3bcc2a4",
   "metadata": {},
   "outputs": [
    {
     "name": "stdout",
     "output_type": "stream",
     "text": [
      "Натальная карта к...\n",
      "Женский форум\n",
      "Шоу меломан самое...\n"
     ]
    }
   ],
   "source": [
    "# код решенияж\n",
    "def shorten_headline(max_length, headlines):\n",
    "    shortened_headlines = []\n",
    "    for headline in headlines:\n",
    "        if len(headline) <= max_length:\n",
    "            shortened_headlines.append(headline)\n",
    "        else:\n",
    "            shortened_headline = headline[:max_length - 3] + \"...\"\n",
    "            shortened_headlines.append(shortened_headline)\n",
    "    return shortened_headlines\n",
    "max_length = int(input(\"Введите максимальную длину анонса: \"))\n",
    "n = int(input(\"Введите количество заголовков: \"))\n",
    "headlines = []\n",
    "for _ in range(n):\n",
    "    headline = input(\"Введите заголовок: \")\n",
    "    headlines.append(headline)\n",
    "shortened_headlines = shorten_headline(max_length, headlines)\n",
    "for shortened_headline in shortened_headlines:\n",
    "    print(shortened_headline)"
   ]
  },
  {
   "cell_type": "markdown",
   "id": "0c276f9b",
   "metadata": {},
   "source": [
    "### Упражнение 2"
   ]
  },
  {
   "cell_type": "markdown",
   "id": "d60da0bb",
   "metadata": {},
   "source": [
    "\n",
    "\n",
    "Формат телефонного номера в США обычно такой: сначала идет +1, затем 10 цифр, разделенных скобками и дефисами по 3 или 4:\n",
    "+1(XXX)XXX-XXXX\n",
    "#### Формат ввода\n",
    "\n",
    "Вводится номер, состоящий из 10 цифр.\n",
    "#### Формат вывода\n",
    "\n",
    "Запишите его в указанном формате.\n"
   ]
  },
  {
   "cell_type": "markdown",
   "id": "a571ce4a",
   "metadata": {},
   "source": [
    "![title](img/ex2.png)"
   ]
  },
  {
   "cell_type": "code",
   "execution_count": 16,
   "id": "9a9dd651",
   "metadata": {},
   "outputs": [
    {
     "name": "stdout",
     "output_type": "stream",
     "text": [
      "+1(123)456-7890\n"
     ]
    }
   ],
   "source": [
    "# код решения\n",
    "def format_phone_number(digits):\n",
    "    area_code = digits[:3]\n",
    "    prefix = digits[3:6]\n",
    "    line_number = digits[6:]\n",
    "    return f\"+1({area_code}){prefix}-{line_number}\"\n",
    "digits = input(\"Введите 10 цифр номера телефона: \")\n",
    "if len(digits) != 10 or not digits.isdigit():\n",
    "    print(\"Ошибка: введите ровно 10 цифр.\")\n",
    "else:\n",
    "    formatted_number = format_phone_number(digits)\n",
    "    print(formatted_number)"
   ]
  },
  {
   "cell_type": "markdown",
   "id": "b1e0dc7b",
   "metadata": {},
   "source": [
    "### Упражнение 3"
   ]
  },
  {
   "cell_type": "markdown",
   "id": "8c0e8632",
   "metadata": {},
   "source": [
    "\n",
    "\n",
    "У Аркадия есть любимая буква и любимое число. Каждый раз, когда Аркадий видит какую-то строку, он проверяет, правда ли, что на позиции, номер которой совпадает с его любимым числом, стоит его любимая буква.\n",
    "\n",
    "Напишите программу, которая поможет Аркадию произвести такую проверку. Если буква совпадает с его любимой, программа должна напечатать «ДА», если не совпадает — «НЕТ». Если в сообщении нет буквы с нужным номером или введённое число в принципе не может быть номером буквы, нужно вывести «ОШИБКА». Если в качестве любимой предъявлена не одна буква, а несколько, тоже нужно вывести «ОШИБКА».\n",
    "#### Формат ввода\n",
    "\n",
    "В первой строке записано некоторое сообщение.\n",
    "Вторая строка содержит любимое число Аркадия.\n",
    "Третья — его любимую букву либо, возможно, несколько букв.\n",
    "#### Формат вывода\n",
    "\n",
    "Одно из сообщений «ДА», «НЕТ» или «ОШИБКА».\n"
   ]
  },
  {
   "cell_type": "markdown",
   "id": "e89b750e",
   "metadata": {},
   "source": [
    "![title](img/ex3.png)"
   ]
  },
  {
   "cell_type": "code",
   "execution_count": 17,
   "id": "355436c3",
   "metadata": {},
   "outputs": [
    {
     "name": "stdout",
     "output_type": "stream",
     "text": [
      "ДА\n"
     ]
    }
   ],
   "source": [
    "# код решения\n",
    "def check_letter(message, favorite_number, favorite_letter):\n",
    "    if len(favorite_letter) != 1:\n",
    "        return \"ОШИБКА\"\n",
    "    if not message or not isinstance(favorite_number, int) or not favorite_letter:\n",
    "        return \"ОШИБКА\"\n",
    "    if favorite_number < 1 or favorite_number > len(message):\n",
    "        return \"ОШИБКА\"\n",
    "    if message[favorite_number - 1] == favorite_letter:\n",
    "        return \"ДА\"\n",
    "    else:\n",
    "        return \"НЕТ\"\n",
    "message = input(\"Введите сообщение: \")\n",
    "try:\n",
    "    favorite_number = int(input(\"Введите любимое число: \"))\n",
    "except ValueError:\n",
    "    print(\"ОШИБКА\")  \n",
    "    exit()  \n",
    "favorite_letter = input(\"Введите любимую букву: \")\n",
    "result = check_letter(message, favorite_number, favorite_letter)\n",
    "print(result)"
   ]
  }
 ],
 "metadata": {
  "kernelspec": {
   "display_name": "Python 3",
   "language": "python",
   "name": "python3"
  },
  "language_info": {
   "codemirror_mode": {
    "name": "ipython",
    "version": 3
   },
   "file_extension": ".py",
   "mimetype": "text/x-python",
   "name": "python",
   "nbconvert_exporter": "python",
   "pygments_lexer": "ipython3",
   "version": "3.11.9"
  }
 },
 "nbformat": 4,
 "nbformat_minor": 5
}
